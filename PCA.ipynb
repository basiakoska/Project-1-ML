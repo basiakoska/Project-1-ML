{
 "cells": [
  {
   "cell_type": "code",
   "execution_count": 1,
   "id": "3a146638",
   "metadata": {},
   "outputs": [],
   "source": [
    "from sklearn.decomposition import PCA\n",
    "import matplotlib.pyplot as plt\n",
    "import numpy as np\n",
    "import pandas as pd"
   ]
  },
  {
   "cell_type": "code",
   "execution_count": 2,
   "id": "660a63b4",
   "metadata": {},
   "outputs": [
    {
     "name": "stdout",
     "output_type": "stream",
     "text": [
      "     Pregnancies  Glucose  BloodPressure  SkinThickness  Insulin   BMI  \\\n",
      "0              0      102             52              0        0  25.1   \n",
      "1              6       87             80              0        0  23.2   \n",
      "2              2       90             70             17        0  27.3   \n",
      "3              6       92             62             32      126  32.0   \n",
      "4              2      125             60             20      140  33.8   \n",
      "..           ...      ...            ...            ...      ...   ...   \n",
      "763            0      146             82              0        0  40.5   \n",
      "764            0      180             66             39        0  42.0   \n",
      "765            3      173             82             48      465  38.4   \n",
      "766            0      137             40             35      168  43.1   \n",
      "767            4      197             70             39      744  36.7   \n",
      "\n",
      "     DiabetesPedigreeFunction  Age  Outcome  \n",
      "0                       0.078   21        0  \n",
      "1                       0.084   32        0  \n",
      "2                       0.085   22        0  \n",
      "3                       0.085   46        0  \n",
      "4                       0.088   31        0  \n",
      "..                        ...  ...      ...  \n",
      "763                     1.781   44        0  \n",
      "764                     1.893   25        1  \n",
      "765                     2.137   25        1  \n",
      "766                     2.288   33        1  \n",
      "767                     2.329   31        0  \n",
      "\n",
      "[768 rows x 9 columns]\n"
     ]
    }
   ],
   "source": [
    "df = pd.read_excel(r'C:\\Users\\basia\\OneDrive\\Pulpit\\DTU\\ML\\diabetes_dataset.xlsx')\n",
    "print(df)"
   ]
  },
  {
   "cell_type": "code",
   "execution_count": 3,
   "id": "ea887ff4",
   "metadata": {},
   "outputs": [
    {
     "data": {
      "text/plain": [
       "Index(['Pregnancies', 'Glucose', 'BloodPressure', 'SkinThickness', 'Insulin',\n",
       "       'BMI', 'DiabetesPedigreeFunction', 'Age'],\n",
       "      dtype='object')"
      ]
     },
     "execution_count": 3,
     "metadata": {},
     "output_type": "execute_result"
    }
   ],
   "source": [
    "df.columns[0:8]"
   ]
  },
  {
   "cell_type": "code",
   "execution_count": 4,
   "id": "a370c146",
   "metadata": {},
   "outputs": [
    {
     "data": {
      "text/html": [
       "<div>\n",
       "<style scoped>\n",
       "    .dataframe tbody tr th:only-of-type {\n",
       "        vertical-align: middle;\n",
       "    }\n",
       "\n",
       "    .dataframe tbody tr th {\n",
       "        vertical-align: top;\n",
       "    }\n",
       "\n",
       "    .dataframe thead th {\n",
       "        text-align: right;\n",
       "    }\n",
       "</style>\n",
       "<table border=\"1\" class=\"dataframe\">\n",
       "  <thead>\n",
       "    <tr style=\"text-align: right;\">\n",
       "      <th></th>\n",
       "      <th>Pregnancies</th>\n",
       "      <th>Glucose</th>\n",
       "      <th>BloodPressure</th>\n",
       "      <th>SkinThickness</th>\n",
       "      <th>Insulin</th>\n",
       "      <th>BMI</th>\n",
       "      <th>DiabetesPedigreeFunction</th>\n",
       "      <th>Age</th>\n",
       "      <th>Outcome</th>\n",
       "    </tr>\n",
       "  </thead>\n",
       "  <tbody>\n",
       "    <tr>\n",
       "      <th>763</th>\n",
       "      <td>0</td>\n",
       "      <td>146</td>\n",
       "      <td>82</td>\n",
       "      <td>0</td>\n",
       "      <td>0</td>\n",
       "      <td>40.5</td>\n",
       "      <td>1.781</td>\n",
       "      <td>44</td>\n",
       "      <td>0</td>\n",
       "    </tr>\n",
       "    <tr>\n",
       "      <th>764</th>\n",
       "      <td>0</td>\n",
       "      <td>180</td>\n",
       "      <td>66</td>\n",
       "      <td>39</td>\n",
       "      <td>0</td>\n",
       "      <td>42.0</td>\n",
       "      <td>1.893</td>\n",
       "      <td>25</td>\n",
       "      <td>1</td>\n",
       "    </tr>\n",
       "    <tr>\n",
       "      <th>765</th>\n",
       "      <td>3</td>\n",
       "      <td>173</td>\n",
       "      <td>82</td>\n",
       "      <td>48</td>\n",
       "      <td>465</td>\n",
       "      <td>38.4</td>\n",
       "      <td>2.137</td>\n",
       "      <td>25</td>\n",
       "      <td>1</td>\n",
       "    </tr>\n",
       "    <tr>\n",
       "      <th>766</th>\n",
       "      <td>0</td>\n",
       "      <td>137</td>\n",
       "      <td>40</td>\n",
       "      <td>35</td>\n",
       "      <td>168</td>\n",
       "      <td>43.1</td>\n",
       "      <td>2.288</td>\n",
       "      <td>33</td>\n",
       "      <td>1</td>\n",
       "    </tr>\n",
       "    <tr>\n",
       "      <th>767</th>\n",
       "      <td>4</td>\n",
       "      <td>197</td>\n",
       "      <td>70</td>\n",
       "      <td>39</td>\n",
       "      <td>744</td>\n",
       "      <td>36.7</td>\n",
       "      <td>2.329</td>\n",
       "      <td>31</td>\n",
       "      <td>0</td>\n",
       "    </tr>\n",
       "  </tbody>\n",
       "</table>\n",
       "</div>"
      ],
      "text/plain": [
       "     Pregnancies  Glucose  BloodPressure  SkinThickness  Insulin   BMI  \\\n",
       "763            0      146             82              0        0  40.5   \n",
       "764            0      180             66             39        0  42.0   \n",
       "765            3      173             82             48      465  38.4   \n",
       "766            0      137             40             35      168  43.1   \n",
       "767            4      197             70             39      744  36.7   \n",
       "\n",
       "     DiabetesPedigreeFunction  Age  Outcome  \n",
       "763                     1.781   44        0  \n",
       "764                     1.893   25        1  \n",
       "765                     2.137   25        1  \n",
       "766                     2.288   33        1  \n",
       "767                     2.329   31        0  "
      ]
     },
     "execution_count": 4,
     "metadata": {},
     "output_type": "execute_result"
    }
   ],
   "source": [
    "df = pd.DataFrame(df)\n",
    "df.tail()"
   ]
  },
  {
   "cell_type": "code",
   "execution_count": 5,
   "id": "529257ff",
   "metadata": {},
   "outputs": [],
   "source": [
    "df= df[df['SkinThickness'] != 0]\n",
    "df= df[df['Insulin'] != 0]\n",
    "df= df[df['Pregnancies']/df['Age'] < 0.5]\n",
    "df= df[df['BloodPressure'] >20]\n",
    "df= df[df['BloodPressure']<180]\n",
    "df= df[df['Glucose'] >50]\n",
    "df= df[df['Glucose']<160]\n",
    "df= df[df['BMI']>15]\n",
    "df= df[df['BMI']<50]\n"
   ]
  },
  {
   "cell_type": "code",
   "execution_count": 7,
   "id": "400b022e",
   "metadata": {},
   "outputs": [
    {
     "data": {
      "text/plain": [
       "<matplotlib.collections.PathCollection at 0x1b8bb834040>"
      ]
     },
     "execution_count": 7,
     "metadata": {},
     "output_type": "execute_result"
    },
    {
     "data": {
      "image/png": "[encoded data removed]",
      "text/plain": [
       "<Figure size 432x288 with 1 Axes>"
      ]
     },
     "metadata": {
      "needs_background": "light"
     },
     "output_type": "display_data"
    }
   ],
   "source": [
    "plt.scatter(df['SkinThickness'], df[\"Insulin\"],  label='SkinThickness')\n"
   ]
  },
  {
   "cell_type": "code",
   "execution_count": 6,
   "id": "a91275df",
   "metadata": {},
   "outputs": [],
   "source": [
    " df.to_excel('output.xlsx',index=True)"
   ]
  },
  {
   "cell_type": "code",
   "execution_count": 7,
   "id": "b23890f0",
   "metadata": {
    "scrolled": true
   },
   "outputs": [
    {
     "name": "stdout",
     "output_type": "stream",
     "text": [
      "(334, 9)\n"
     ]
    }
   ],
   "source": [
    "print(df.shape)\n",
    "X=df.iloc[:,:-1]\n",
    "y=df.iloc[:,-1:]\n"
   ]
  },
  {
   "cell_type": "code",
   "execution_count": 8,
   "id": "1ea6ccd8",
   "metadata": {},
   "outputs": [],
   "source": [
    "#Standardizing the data\n",
    "from sklearn.preprocessing import StandardScaler\n",
    "X = StandardScaler().fit_transform(X) # normalizing the features\n"
   ]
  },
  {
   "cell_type": "code",
   "execution_count": 10,
   "id": "b1ebbe9e",
   "metadata": {},
   "outputs": [],
   "source": [
    "pca = PCA(n_components=8)\n",
    "X2D = pca.fit_transform(X)\n",
    "cumsum = np.cumsum(pca.explained_variance_ratio_)\n",
    "component = np.arange(1,cumsum.shape[0]+1,1)"
   ]
  },
  {
   "cell_type": "code",
   "execution_count": 10,
   "id": "dcbb93cc",
   "metadata": {},
   "outputs": [
    {
     "data": {
      "text/plain": [
       "array([[ 0.87051467, -0.95780953, -0.66749892, ..., -0.05424187,\n",
       "        -1.33636412,  1.68026732],\n",
       "       [-0.39225145,  0.50417311, -0.83424883, ...,  0.2271232 ,\n",
       "        -1.32678849,  0.11001191],\n",
       "       [-1.02363452,  0.14975308,  0.83325033, ...,  2.009102  ,\n",
       "        -1.32359662, -0.62277395],\n",
       "       ...,\n",
       "       [-1.02363452,  0.63708062, -0.16724917, ..., -0.28871276,\n",
       "         2.8322265 , -0.51809026],\n",
       "       [-0.39225145, -1.40083457, -1.5012485 , ..., -0.60134062,\n",
       "         3.81532445, -0.51809026],\n",
       "       [-1.02363452,  1.03580316, -2.501748  , ...,  1.68084275,\n",
       "         5.69533967,  0.3193793 ]])"
      ]
     },
     "execution_count": 10,
     "metadata": {},
     "output_type": "execute_result"
    }
   ],
   "source": [
    "X"
   ]
  },
  {
   "cell_type": "code",
   "execution_count": 29,
   "id": "04ca57d7",
   "metadata": {},
   "outputs": [
    {
     "name": "stdout",
     "output_type": "stream",
     "text": [
      "[0.32180252 0.50735983 0.65815429 0.78679294 0.87809158 0.93134665\n",
      " 0.9684253  1.        ]\n",
      "[1 2 3 4 5 6 7 8]\n"
     ]
    },
    {
     "data": {
      "image/png": "[encoded data removed]",
      "text/plain": [
       "<Figure size 432x288 with 1 Axes>"
      ]
     },
     "metadata": {
      "needs_background": "light"
     },
     "output_type": "display_data"
    },
    {
     "data": {
      "text/plain": [
       "<matplotlib.collections.PathCollection at 0x1dcd2f32410>"
      ]
     },
     "execution_count": 29,
     "metadata": {},
     "output_type": "execute_result"
    },
    {
     "data": {
      "image/png": "[encoded data removed]",
      "text/plain": [
       "<Figure size 432x288 with 1 Axes>"
      ]
     },
     "metadata": {
      "needs_background": "light"
     },
     "output_type": "display_data"
    }
   ],
   "source": [
    "print(cumsum)\n",
    "print(component)\n",
    "plt.plot(component,cumsum, alpha = 0.5)\n",
    "plt.scatter(5,cumsum[4],color = 'r') # plotting the \"optimal number of components\"\n",
    "plt.xlabel('Number of components')\n",
    "plt.title(\"PCA cumulative variance\")\n",
    "plt.ylabel('Explained variance ratio')\n",
    "plt.grid()\n",
    "plt.show()\n",
    "\n",
    "#20 values below 90% of variance \n",
    "pca = PCA(n_components=0.8)\n",
    "Z = pca.fit_transform(X)\n",
    "plt.scatter(X2D[:,0],X2D[:,1], color = 'r')"
   ]
  },
  {
   "cell_type": "code",
   "execution_count": 12,
   "id": "b0de66fb",
   "metadata": {},
   "outputs": [
    {
     "data": {
      "text/plain": [
       "(334, 5)"
      ]
     },
     "execution_count": 12,
     "metadata": {},
     "output_type": "execute_result"
    }
   ],
   "source": [
    "Z.shape"
   ]
  },
  {
   "cell_type": "code",
   "execution_count": 31,
   "id": "a5a01a80",
   "metadata": {},
   "outputs": [
    {
     "data": {
      "image/png": "[encoded data removed]",
      "text/plain": [
       "<Figure size 432x288 with 1 Axes>"
      ]
     },
     "metadata": {
      "needs_background": "light"
     },
     "output_type": "display_data"
    }
   ],
   "source": [
    "import matplotlib.pyplot as plt\n",
    "from matplotlib.pyplot import figure, plot, title, legend, xlabel, ylabel, show\n",
    "plt.scatter(Z[:,0][(df.Outcome == 0)],\n",
    "            Z[:,1][(df.Outcome == 0)],\n",
    "           marker='D',\n",
    "           color='red',\n",
    "           label='No diabetes')\n",
    "plt.scatter(Z[:,0][(df.Outcome == 1)],\n",
    "            Z[:,1][(df.Outcome == 1)],\n",
    "           marker='o',\n",
    "           color='blue',\n",
    "           label='Diabetes')\n",
    "\n",
    "\n",
    "plt.xlabel('First component')\n",
    "plt.ylabel('Second component')\n",
    "plt.title(\"PCA\")\n",
    "plt.legend()\n",
    "plt.show()"
   ]
  },
  {
   "cell_type": "code",
   "execution_count": 14,
   "id": "633315a8",
   "metadata": {},
   "outputs": [
    {
     "data": {
      "image/png": "[encoded data removed]",
      "text/plain": [
       "<Figure size 432x288 with 1 Axes>"
      ]
     },
     "metadata": {
      "needs_background": "light"
     },
     "output_type": "display_data"
    }
   ],
   "source": [
    "import matplotlib.pyplot as plt\n",
    "from matplotlib.pyplot import figure, plot, title, legend, xlabel, ylabel, show\n",
    "plt.scatter(Z[:,0][(df.Outcome == 0)],\n",
    "            Z[:,2][(df.Outcome == 0)],\n",
    "           marker='D',\n",
    "           color='red',\n",
    "           label='No diabetes')\n",
    "plt.scatter(Z[:,0][(df.Outcome == 1)],\n",
    "            Z[:,2][(df.Outcome == 1)],\n",
    "           marker='o',\n",
    "           color='blue',\n",
    "           label='Diabetes')\n",
    "\n",
    "\n",
    "plt.xlabel('First component')\n",
    "plt.ylabel('Third component')\n",
    "plt.legend()\n",
    "plt.show()"
   ]
  },
  {
   "cell_type": "code",
   "execution_count": 32,
   "id": "83d49a83",
   "metadata": {},
   "outputs": [
    {
     "data": {
      "image/png": "[encoded data removed]",
      "text/plain": [
       "<Figure size 432x288 with 1 Axes>"
      ]
     },
     "metadata": {
      "needs_background": "light"
     },
     "output_type": "display_data"
    }
   ],
   "source": [
    "import matplotlib.pyplot as plt\n",
    "from matplotlib.pyplot import figure, plot, title, legend, xlabel, ylabel, show\n",
    "plt.scatter(Z[:,0][(df.Outcome == 0)],\n",
    "            Z[:,4][(df.Outcome == 0)],\n",
    "           marker='D',\n",
    "           color='red',\n",
    "           label='No diabetes')\n",
    "plt.scatter(Z[:,0][(df.Outcome == 1)],\n",
    "            Z[:,4][(df.Outcome == 1)],\n",
    "           marker='o',\n",
    "           color='blue',\n",
    "           label='Diabetes')\n",
    "\n",
    "\n",
    "plt.xlabel('First component')\n",
    "plt.ylabel('Fifth component')\n",
    "plt.title('PCA 1st and 5th component')\n",
    "plt.legend()\n",
    "plt.show()"
   ]
  },
  {
   "cell_type": "markdown",
   "id": "e071de19",
   "metadata": {},
   "source": [
    "Certainly! This code is performing Principal Component Analysis (PCA) using scikit-learn's implementation to reduce the dimensionality of a dataset while retaining more than 90% of the variance in the data. Here's a step-by-step explanation of the code. Here, a PCA object is created with the n_components parameter set to 8. This means that initially, the PCA will reduce the dimensionality to 8 components. This is a higher dimension than is needed for retaining 90% of the variance.The fit_transform method is called on the PCA object (pca) with the input data X. This step applies PCA to the dataset X, reducing its dimensionality to 8 components and storing the transformed data in X2D. This line cumsum = np.cumsum(pca.explained_variance_ratio_) calculates the cumulative sum of explained variance ratios. explained_variance_ratio_ contains the proportion of the dataset's total variance explained by each principal component."
   ]
  },
  {
   "cell_type": "markdown",
   "id": "7e9394fa",
   "metadata": {},
   "source": [
    "The plot plots cumulative explained variance against the component numbers. It provides a visual representation of how much variance is retained as the number of components increases."
   ]
  },
  {
   "cell_type": "markdown",
   "id": "fb11cad0",
   "metadata": {},
   "source": [
    "This block of code creates a new PCA object with n_components set to 0.9, which means it will retain enough components to explain 90% or more of the variance in the data. It then applies PCA to the data X and stores the transformed data in Z."
   ]
  },
  {
   "cell_type": "markdown",
   "id": "adf917e7",
   "metadata": {},
   "source": [
    "Last line creates a scatter plot of the transformed data X2D. In this case, it's only showing the first two components of the reduced data.\n",
    "\n",
    "Overall, the code provides a visual analysis of PCA, helping you understand how the cumulative explained variance changes with the number of components and how to select an appropriate number of components to retain a desired amount of variance."
   ]
  },
  {
   "cell_type": "code",
   "execution_count": 16,
   "id": "0b184082",
   "metadata": {},
   "outputs": [],
   "source": [
    "#Creating dataframe with 5 componontes \n",
    "\n",
    "df_PCA = pd.DataFrame(data = Z\n",
    "             , columns = ['principal component 1', 'principal component 2','principal component 3','principal component 4','principal component 5'])\n"
   ]
  },
  {
   "cell_type": "code",
   "execution_count": 17,
   "id": "dab148ef",
   "metadata": {},
   "outputs": [
    {
     "data": {
      "text/html": [
       "<div>\n",
       "<style scoped>\n",
       "    .dataframe tbody tr th:only-of-type {\n",
       "        vertical-align: middle;\n",
       "    }\n",
       "\n",
       "    .dataframe tbody tr th {\n",
       "        vertical-align: top;\n",
       "    }\n",
       "\n",
       "    .dataframe thead th {\n",
       "        text-align: right;\n",
       "    }\n",
       "</style>\n",
       "<table border=\"1\" class=\"dataframe\">\n",
       "  <thead>\n",
       "    <tr style=\"text-align: right;\">\n",
       "      <th></th>\n",
       "      <th>principal component 1</th>\n",
       "      <th>principal component 2</th>\n",
       "      <th>principal component 3</th>\n",
       "      <th>principal component 4</th>\n",
       "      <th>principal component 5</th>\n",
       "    </tr>\n",
       "  </thead>\n",
       "  <tbody>\n",
       "    <tr>\n",
       "      <th>0</th>\n",
       "      <td>0.419917</td>\n",
       "      <td>0.964521</td>\n",
       "      <td>-1.224583</td>\n",
       "      <td>-0.549633</td>\n",
       "      <td>1.691390</td>\n",
       "    </tr>\n",
       "    <tr>\n",
       "      <th>1</th>\n",
       "      <td>-0.521476</td>\n",
       "      <td>0.263739</td>\n",
       "      <td>0.628976</td>\n",
       "      <td>-1.059014</td>\n",
       "      <td>0.816035</td>\n",
       "    </tr>\n",
       "    <tr>\n",
       "      <th>2</th>\n",
       "      <td>0.025325</td>\n",
       "      <td>-1.890290</td>\n",
       "      <td>-0.827994</td>\n",
       "      <td>-1.589440</td>\n",
       "      <td>-0.318645</td>\n",
       "    </tr>\n",
       "    <tr>\n",
       "      <th>3</th>\n",
       "      <td>-1.320310</td>\n",
       "      <td>-0.788752</td>\n",
       "      <td>-1.316967</td>\n",
       "      <td>-1.326091</td>\n",
       "      <td>-0.340208</td>\n",
       "    </tr>\n",
       "    <tr>\n",
       "      <th>4</th>\n",
       "      <td>-1.201910</td>\n",
       "      <td>1.021249</td>\n",
       "      <td>0.221240</td>\n",
       "      <td>-1.402862</td>\n",
       "      <td>-0.425018</td>\n",
       "    </tr>\n",
       "  </tbody>\n",
       "</table>\n",
       "</div>"
      ],
      "text/plain": [
       "   principal component 1  principal component 2  principal component 3  \\\n",
       "0               0.419917               0.964521              -1.224583   \n",
       "1              -0.521476               0.263739               0.628976   \n",
       "2               0.025325              -1.890290              -0.827994   \n",
       "3              -1.320310              -0.788752              -1.316967   \n",
       "4              -1.201910               1.021249               0.221240   \n",
       "\n",
       "   principal component 4  principal component 5  \n",
       "0              -0.549633               1.691390  \n",
       "1              -1.059014               0.816035  \n",
       "2              -1.589440              -0.318645  \n",
       "3              -1.326091              -0.340208  \n",
       "4              -1.402862              -0.425018  "
      ]
     },
     "execution_count": 17,
     "metadata": {},
     "output_type": "execute_result"
    }
   ],
   "source": [
    "df_PCA.head()"
   ]
  },
  {
   "cell_type": "code",
   "execution_count": 18,
   "id": "3fc51cf3",
   "metadata": {},
   "outputs": [
    {
     "name": "stdout",
     "output_type": "stream",
     "text": [
      "Explained variation per principal component: [0.32180252 0.18555731 0.15079447 0.12863864 0.09129864]\n"
     ]
    }
   ],
   "source": [
    "print('Explained variation per principal component: {}'.format(pca.explained_variance_ratio_))\n"
   ]
  },
  {
   "cell_type": "code",
   "execution_count": 19,
   "id": "32e6a728",
   "metadata": {},
   "outputs": [],
   "source": [
    "#That means that 2-D square of PCA1 and PCA2 will be less than 50% approximatation of the data"
   ]
  },
  {
   "cell_type": "markdown",
   "id": "78b005a5",
   "metadata": {},
   "source": [
    "Here we can summerize that pricipal component 1 holds 25% of variance, 2 holds 21.7%, 3 holds 13%, 4 holds 11.6% and 5 holds 9%"
   ]
  },
  {
   "cell_type": "markdown",
   "id": "68424177",
   "metadata": {},
   "source": [
    "Finding principal directions:"
   ]
  },
  {
   "cell_type": "code",
   "execution_count": 34,
   "id": "3e6d1518",
   "metadata": {},
   "outputs": [
    {
     "data": {
      "text/html": [
       "<div>\n",
       "<style scoped>\n",
       "    .dataframe tbody tr th:only-of-type {\n",
       "        vertical-align: middle;\n",
       "    }\n",
       "\n",
       "    .dataframe tbody tr th {\n",
       "        vertical-align: top;\n",
       "    }\n",
       "\n",
       "    .dataframe thead th {\n",
       "        text-align: right;\n",
       "    }\n",
       "</style>\n",
       "<table border=\"1\" class=\"dataframe\">\n",
       "  <thead>\n",
       "    <tr style=\"text-align: right;\">\n",
       "      <th></th>\n",
       "      <th>Pregnancies</th>\n",
       "      <th>Glucose</th>\n",
       "      <th>BloodPressure</th>\n",
       "      <th>SkinThickness</th>\n",
       "      <th>Insulin</th>\n",
       "      <th>BMI</th>\n",
       "      <th>DiabetesPedigreeFunction</th>\n",
       "      <th>Age</th>\n",
       "    </tr>\n",
       "  </thead>\n",
       "  <tbody>\n",
       "    <tr>\n",
       "      <th>1</th>\n",
       "      <td>0.384649</td>\n",
       "      <td>0.396300</td>\n",
       "      <td>0.333725</td>\n",
       "      <td>0.369528</td>\n",
       "      <td>0.344101</td>\n",
       "      <td>0.347990</td>\n",
       "      <td>0.093876</td>\n",
       "      <td>0.445818</td>\n",
       "    </tr>\n",
       "    <tr>\n",
       "      <th>2</th>\n",
       "      <td>0.489175</td>\n",
       "      <td>0.093381</td>\n",
       "      <td>0.004857</td>\n",
       "      <td>-0.501125</td>\n",
       "      <td>-0.039407</td>\n",
       "      <td>-0.577218</td>\n",
       "      <td>-0.067702</td>\n",
       "      <td>0.401896</td>\n",
       "    </tr>\n",
       "    <tr>\n",
       "      <th>3</th>\n",
       "      <td>-0.248250</td>\n",
       "      <td>0.535934</td>\n",
       "      <td>-0.302331</td>\n",
       "      <td>-0.233148</td>\n",
       "      <td>0.642978</td>\n",
       "      <td>-0.149298</td>\n",
       "      <td>0.101336</td>\n",
       "      <td>-0.243732</td>\n",
       "    </tr>\n",
       "    <tr>\n",
       "      <th>4</th>\n",
       "      <td>0.074149</td>\n",
       "      <td>-0.118432</td>\n",
       "      <td>-0.335171</td>\n",
       "      <td>0.058996</td>\n",
       "      <td>-0.102648</td>\n",
       "      <td>-0.012851</td>\n",
       "      <td>0.913395</td>\n",
       "      <td>0.140224</td>\n",
       "    </tr>\n",
       "    <tr>\n",
       "      <th>5</th>\n",
       "      <td>0.297291</td>\n",
       "      <td>-0.092244</td>\n",
       "      <td>-0.809482</td>\n",
       "      <td>0.275725</td>\n",
       "      <td>0.051402</td>\n",
       "      <td>0.127815</td>\n",
       "      <td>-0.364909</td>\n",
       "      <td>0.140305</td>\n",
       "    </tr>\n",
       "  </tbody>\n",
       "</table>\n",
       "</div>"
      ],
      "text/plain": [
       "   Pregnancies   Glucose  BloodPressure  SkinThickness   Insulin       BMI  \\\n",
       "1     0.384649  0.396300       0.333725       0.369528  0.344101  0.347990   \n",
       "2     0.489175  0.093381       0.004857      -0.501125 -0.039407 -0.577218   \n",
       "3    -0.248250  0.535934      -0.302331      -0.233148  0.642978 -0.149298   \n",
       "4     0.074149 -0.118432      -0.335171       0.058996 -0.102648 -0.012851   \n",
       "5     0.297291 -0.092244      -0.809482       0.275725  0.051402  0.127815   \n",
       "\n",
       "   DiabetesPedigreeFunction       Age  \n",
       "1                  0.093876  0.445818  \n",
       "2                 -0.067702  0.401896  \n",
       "3                  0.101336 -0.243732  \n",
       "4                  0.913395  0.140224  \n",
       "5                 -0.364909  0.140305  "
      ]
     },
     "execution_count": 34,
     "metadata": {},
     "output_type": "execute_result"
    }
   ],
   "source": [
    "principal_directions = pca.components_\n",
    "principal_directions=pd.DataFrame(data=principal_directions, columns=df.columns[0:8])\n",
    "principal_directions.index = np.arange(1, len(principal_directions) + 1)\n",
    "principal_directions\n",
    "#values of each principal directions for attributes for each PCA component\n",
    "#Eigenvalues represent the total amount of variance that can be explained by a given principal component\n",
    "#COmponent loadings represent the amount of variance in each item that can be explained by the principal component.\n",
    "#Those are the distances to the projected line, sum of squared distances get the variance for each PCA component\n",
    "#The important features are the ones that influence more the components and thus, have a large absolute value on the component."
   ]
  },
  {
   "cell_type": "code",
   "execution_count": 21,
   "id": "10952419",
   "metadata": {},
   "outputs": [
    {
     "data": {
      "text/plain": [
       "5"
      ]
     },
     "execution_count": 21,
     "metadata": {},
     "output_type": "execute_result"
    }
   ],
   "source": [
    "pca.n_components_\n"
   ]
  },
  {
   "cell_type": "code",
   "execution_count": 22,
   "id": "e063d7ce",
   "metadata": {},
   "outputs": [
    {
     "data": {
      "text/plain": [
       "Index(['Pregnancies', 'Glucose', 'BloodPressure', 'SkinThickness', 'Insulin',\n",
       "       'BMI', 'DiabetesPedigreeFunction', 'Age'],\n",
       "      dtype='object')"
      ]
     },
     "execution_count": 22,
     "metadata": {},
     "output_type": "execute_result"
    }
   ],
   "source": [
    "principal_directions.columns"
   ]
  },
  {
   "cell_type": "code",
   "execution_count": 23,
   "id": "64c76616",
   "metadata": {},
   "outputs": [
    {
     "data": {
      "image/png": "[encoded data removed]",
      "text/plain": [
       "<Figure size 432x288 with 2 Axes>"
      ]
     },
     "metadata": {
      "needs_background": "light"
     },
     "output_type": "display_data"
    }
   ],
   "source": [
    "import seaborn as sns\n",
    "ax = sns.heatmap(principal_directions,\n",
    "                 cmap='YlGnBu',\n",
    "                 yticklabels=[ \"PCA\"+str(x) for x in range(1,pca.n_components_+1)],\n",
    "                 xticklabels=list([1,2,3,4,5,6,7,8]),\n",
    "                 cbar_kws={\"orientation\": \"horizontal\"})\n",
    "ax.set_aspect(\"equal\")"
   ]
  },
  {
   "cell_type": "code",
   "execution_count": 24,
   "id": "b205da43",
   "metadata": {},
   "outputs": [],
   "source": [
    "#in the example of PCA1 (row 0), it tells us that attributes 0 and 6 in terms of how they are projected, they are less importnant then the others"
   ]
  },
  {
   "cell_type": "code",
   "execution_count": 25,
   "id": "3729d19a",
   "metadata": {},
   "outputs": [
    {
     "name": "stdout",
     "output_type": "stream",
     "text": [
      "0.1479549065792282\n",
      "0.30500825813168514\n",
      "0.41638053207830966\n",
      "0.5529311635936375\n",
      "0.671336612196968\n",
      "0.7924334993118419\n",
      "0.8012462582859317\n",
      "1.0000000000000004\n"
     ]
    }
   ],
   "source": [
    "variance=0\n",
    "for i in principal_directions.loc[0,:]:\n",
    "    variance+=i**2\n",
    "    print(variance)"
   ]
  },
  {
   "cell_type": "code",
   "execution_count": 26,
   "id": "94abdc96",
   "metadata": {},
   "outputs": [],
   "source": [
    "#Larger magnitude coefficients suggest that the corresponding variable has a stronger influence on that principal direction.\n"
   ]
  },
  {
   "cell_type": "markdown",
   "id": "1bb33454",
   "metadata": {},
   "source": [
    "Finding data projected"
   ]
  },
  {
   "cell_type": "code",
   "execution_count": 27,
   "id": "00904620",
   "metadata": {},
   "outputs": [
    {
     "data": {
      "text/html": [
       "<div>\n",
       "<style scoped>\n",
       "    .dataframe tbody tr th:only-of-type {\n",
       "        vertical-align: middle;\n",
       "    }\n",
       "\n",
       "    .dataframe tbody tr th {\n",
       "        vertical-align: top;\n",
       "    }\n",
       "\n",
       "    .dataframe thead th {\n",
       "        text-align: right;\n",
       "    }\n",
       "</style>\n",
       "<table border=\"1\" class=\"dataframe\">\n",
       "  <thead>\n",
       "    <tr style=\"text-align: right;\">\n",
       "      <th></th>\n",
       "      <th>0</th>\n",
       "      <th>1</th>\n",
       "      <th>2</th>\n",
       "      <th>3</th>\n",
       "      <th>4</th>\n",
       "    </tr>\n",
       "  </thead>\n",
       "  <tbody>\n",
       "    <tr>\n",
       "      <th>0</th>\n",
       "      <td>0.419917</td>\n",
       "      <td>0.964521</td>\n",
       "      <td>-1.224583</td>\n",
       "      <td>-0.549633</td>\n",
       "      <td>1.691390</td>\n",
       "    </tr>\n",
       "    <tr>\n",
       "      <th>1</th>\n",
       "      <td>-0.521476</td>\n",
       "      <td>0.263739</td>\n",
       "      <td>0.628976</td>\n",
       "      <td>-1.059014</td>\n",
       "      <td>0.816035</td>\n",
       "    </tr>\n",
       "    <tr>\n",
       "      <th>2</th>\n",
       "      <td>0.025325</td>\n",
       "      <td>-1.890290</td>\n",
       "      <td>-0.827994</td>\n",
       "      <td>-1.589440</td>\n",
       "      <td>-0.318645</td>\n",
       "    </tr>\n",
       "    <tr>\n",
       "      <th>3</th>\n",
       "      <td>-1.320310</td>\n",
       "      <td>-0.788752</td>\n",
       "      <td>-1.316967</td>\n",
       "      <td>-1.326091</td>\n",
       "      <td>-0.340208</td>\n",
       "    </tr>\n",
       "    <tr>\n",
       "      <th>4</th>\n",
       "      <td>-1.201910</td>\n",
       "      <td>1.021249</td>\n",
       "      <td>0.221240</td>\n",
       "      <td>-1.402862</td>\n",
       "      <td>-0.425018</td>\n",
       "    </tr>\n",
       "    <tr>\n",
       "      <th>...</th>\n",
       "      <td>...</td>\n",
       "      <td>...</td>\n",
       "      <td>...</td>\n",
       "      <td>...</td>\n",
       "      <td>...</td>\n",
       "    </tr>\n",
       "    <tr>\n",
       "      <th>329</th>\n",
       "      <td>1.286967</td>\n",
       "      <td>-0.865981</td>\n",
       "      <td>-0.813703</td>\n",
       "      <td>1.675349</td>\n",
       "      <td>-2.781941</td>\n",
       "    </tr>\n",
       "    <tr>\n",
       "      <th>330</th>\n",
       "      <td>3.150190</td>\n",
       "      <td>2.005839</td>\n",
       "      <td>0.030131</td>\n",
       "      <td>2.564645</td>\n",
       "      <td>-0.512846</td>\n",
       "    </tr>\n",
       "    <tr>\n",
       "      <th>331</th>\n",
       "      <td>-0.450012</td>\n",
       "      <td>-0.233773</td>\n",
       "      <td>1.598198</td>\n",
       "      <td>2.323633</td>\n",
       "      <td>-1.600727</td>\n",
       "    </tr>\n",
       "    <tr>\n",
       "      <th>332</th>\n",
       "      <td>-1.603111</td>\n",
       "      <td>-0.126309</td>\n",
       "      <td>0.394458</td>\n",
       "      <td>4.047737</td>\n",
       "      <td>-0.498873</td>\n",
       "    </tr>\n",
       "    <tr>\n",
       "      <th>333</th>\n",
       "      <td>0.784645</td>\n",
       "      <td>-1.971895</td>\n",
       "      <td>1.868512</td>\n",
       "      <td>5.870238</td>\n",
       "      <td>-0.003431</td>\n",
       "    </tr>\n",
       "  </tbody>\n",
       "</table>\n",
       "<p>334 rows × 5 columns</p>\n",
       "</div>"
      ],
      "text/plain": [
       "            0         1         2         3         4\n",
       "0    0.419917  0.964521 -1.224583 -0.549633  1.691390\n",
       "1   -0.521476  0.263739  0.628976 -1.059014  0.816035\n",
       "2    0.025325 -1.890290 -0.827994 -1.589440 -0.318645\n",
       "3   -1.320310 -0.788752 -1.316967 -1.326091 -0.340208\n",
       "4   -1.201910  1.021249  0.221240 -1.402862 -0.425018\n",
       "..        ...       ...       ...       ...       ...\n",
       "329  1.286967 -0.865981 -0.813703  1.675349 -2.781941\n",
       "330  3.150190  2.005839  0.030131  2.564645 -0.512846\n",
       "331 -0.450012 -0.233773  1.598198  2.323633 -1.600727\n",
       "332 -1.603111 -0.126309  0.394458  4.047737 -0.498873\n",
       "333  0.784645 -1.971895  1.868512  5.870238 -0.003431\n",
       "\n",
       "[334 rows x 5 columns]"
      ]
     },
     "execution_count": 27,
     "metadata": {},
     "output_type": "execute_result"
    }
   ],
   "source": [
    "PCA_data=pd.DataFrame(data=Z)\n",
    "PCA_data"
   ]
  },
  {
   "cell_type": "code",
   "execution_count": null,
   "id": "1c6322eb",
   "metadata": {},
   "outputs": [],
   "source": []
  },
  {
   "cell_type": "code",
   "execution_count": null,
   "id": "6bc27fb4",
   "metadata": {},
   "outputs": [],
   "source": []
  },
  {
   "cell_type": "code",
   "execution_count": null,
   "id": "4cc7e0f7",
   "metadata": {},
   "outputs": [],
   "source": []
  },
  {
   "cell_type": "code",
   "execution_count": null,
   "id": "a0378884",
   "metadata": {},
   "outputs": [],
   "source": []
  },
  {
   "cell_type": "code",
   "execution_count": null,
   "id": "b8aec071",
   "metadata": {},
   "outputs": [],
   "source": []
  }
 ],
 "metadata": {
  "kernelspec": {
   "display_name": "Python 3 (ipykernel)",
   "language": "python",
   "name": "python3"
  },
  "language_info": {
   "codemirror_mode": {
    "name": "ipython",
    "version": 3
   },
   "file_extension": ".py",
   "mimetype": "text/x-python",
   "name": "python",
   "nbconvert_exporter": "python",
   "pygments_lexer": "ipython3",
   "version": "3.10.2"
  }
 },
 "nbformat": 4,
 "nbformat_minor": 5
}
